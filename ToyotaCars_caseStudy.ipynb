{
 "cells": [
  {
   "cell_type": "markdown",
   "id": "small-resistance",
   "metadata": {
    "id": "bA5ajAmk7XH6",
    "tags": []
   },
   "source": [
    "# DataCamp Certification Case Study\n",
    "\n",
    "### Project Brief\n",
    "\n",
    "You have been hired as a data scientist at Discount Motors, a used car dealership in the UK. The dealership is expanding and has hired a large number of junior salespeople. Although promising, these junior employees have difficulties pricing used cars that arrive at the dealership. Sales have declined 18% in recent months, and management would like your help designing a tool to assist these junior employees.\n",
    "\n",
    "To start with, they would like you to work with the Toyota specialist to test your idea(s). They have collected some data from other retailers on the price that a range of Toyota cars were listed at. It is known that cars that are more than £1500 above the estimated price will not sell. The sales team wants to know whether you can make predictions within this range.\n",
    "\n",
    "You will need to present your findings in two formats:\n",
    "- You must submit a written report summarising your analysis to your manager. As a data science manager, your manager has a strong technical background and wants to understand what you have done and why. \n",
    "- You will then need to share your findings with the head of sales in a 10 minute presentation. The head of sales has no data science background but is familiar with basic data related terminology. \n",
    "\n",
    "The data you will use for this analysis can be accessed here: `\"data/toyota.csv\"`"
   ]
  },
  {
   "cell_type": "markdown",
   "id": "bfceb65d-e277-49c1-85ae-69820c08dcc3",
   "metadata": {},
   "source": [
    "## **Table of contents:**\n",
    "\n",
    "1. Imports and Setup\n",
    "2. Data Investigation and Preprossing\n",
    "3. Data Visualization and Analysis\n",
    "4. Model Development\n",
    "5. Feature Tranformation\n",
    "6. Conclusion and Feature work\n"
   ]
  },
  {
   "cell_type": "markdown",
   "id": "5dce457c-4b11-453d-a02b-a7b4ea1ebb16",
   "metadata": {
    "tags": []
   },
   "source": [
    "## Imports and Setup"
   ]
  },
  {
   "cell_type": "code",
   "execution_count": 111,
   "id": "sensitive-excess",
   "metadata": {
    "scrolled": true
   },
   "outputs": [],
   "source": [
    "# Use this cell to begin, and add as many cells as you need to complete your analysis!\n",
    "import pandas as pd\n",
    "import numpy as np\n",
    "import seaborn as sns\n",
    "import matplotlib.pyplot as plt\n",
    "from sklearn.preprocessing import OneHotEncoder\n",
    "from sklearn.model_selection import train_test_split\n",
    "from sklearn.model_selection import GridSearchCV\n",
    "import xgboost\n",
    "from xgboost import XGBRegressor\n",
    "from xgboost import plot_importance\n",
    "from sklearn.metrics import mean_squared_error\n",
    "from sklearn.metrics import explained_variance_score\n",
    "from sklearn.metrics import r2_score\n",
    "import shap"
   ]
  },
  {
   "cell_type": "code",
   "execution_count": 112,
   "id": "e0601700-036b-4c6f-b4ea-b09667bbc13f",
   "metadata": {},
   "outputs": [],
   "source": [
    "sns.set_palette(\"Set2\")"
   ]
  },
  {
   "cell_type": "code",
   "execution_count": 113,
   "id": "98c0d98b-5d71-483f-bc34-5468ba8a47d1",
   "metadata": {},
   "outputs": [
    {
     "data": {
      "image/png": "[encoded data removed]",
      "text/plain": [
       "<Figure size 576x72 with 1 Axes>"
      ]
     },
     "metadata": {
      "needs_background": "light"
     },
     "output_type": "display_data"
    }
   ],
   "source": [
    "current_palette = sns.color_palette()\n",
    "sns.palplot(current_palette)\n",
    "plt.show()"
   ]
  },
  {
   "cell_type": "code",
   "execution_count": 114,
   "id": "8e2f2fe5-ac4d-4b00-87a1-1de2a5b48f70",
   "metadata": {},
   "outputs": [],
   "source": [
    "df=pd.read_csv('toyota.csv')"
   ]
  },
  {
   "cell_type": "markdown",
   "id": "2cef27d3-ddea-494d-8127-8fd2998ce152",
   "metadata": {
    "tags": []
   },
   "source": [
    "## Data Investigation and Preprossing"
   ]
  },
  {
   "cell_type": "code",
   "execution_count": 115,
   "id": "a1b198bd-db05-49b3-bf0c-33a637dc9e9e",
   "metadata": {},
   "outputs": [
    {
     "data": {
      "application/com.datacamp.data-table.v1+json": {
       "is_truncated": false,
       "table": {
        "data": [
         {
          "engineSize": 2,
          "fuelType": "Petrol",
          "index": 0,
          "mileage": 24089,
          "model": " GT86",
          "mpg": 36.2,
          "price": 16000,
          "tax": 265,
          "transmission": "Manual",
          "year": 2016
         },
         {
          "engineSize": 2,
          "fuelType": "Petrol",
          "index": 1,
          "mileage": 18615,
          "model": " GT86",
          "mpg": 36.2,
          "price": 15995,
          "tax": 145,
          "transmission": "Manual",
          "year": 2017
         },
         {
          "engineSize": 2,
          "fuelType": "Petrol",
          "index": 2,
          "mileage": 27469,
          "model": " GT86",
          "mpg": 36.2,
          "price": 13998,
          "tax": 265,
          "transmission": "Manual",
          "year": 2015
         },
         {
          "engineSize": 2,
          "fuelType": "Petrol",
          "index": 3,
          "mileage": 14736,
          "model": " GT86",
          "mpg": 36.2,
          "price": 18998,
          "tax": 150,
          "transmission": "Manual",
          "year": 2017
         },
         {
          "engineSize": 2,
          "fuelType": "Petrol",
          "index": 4,
          "mileage": 36284,
          "model": " GT86",
          "mpg": 36.2,
          "price": 17498,
          "tax": 145,
          "transmission": "Manual",
          "year": 2017
         }
        ],
        "schema": {
         "fields": [
          {
           "name": "index",
           "type": "integer"
          },
          {
           "name": "model",
           "type": "string"
          },
          {
           "name": "year",
           "type": "integer"
          },
          {
           "name": "price",
           "type": "integer"
          },
          {
           "name": "transmission",
           "type": "string"
          },
          {
           "name": "mileage",
           "type": "integer"
          },
          {
           "name": "fuelType",
           "type": "string"
          },
          {
           "name": "tax",
           "type": "integer"
          },
          {
           "name": "mpg",
           "type": "number"
          },
          {
           "name": "engineSize",
           "type": "number"
          }
         ],
         "pandas_version": "1.4.0",
         "primaryKey": [
          "index"
         ]
        }
       },
       "total_rows": 5
      },
      "text/html": [
       "<div>\n",
       "<style scoped>\n",
       "    .dataframe tbody tr th:only-of-type {\n",
       "        vertical-align: middle;\n",
       "    }\n",
       "\n",
       "    .dataframe tbody tr th {\n",
       "        vertical-align: top;\n",
       "    }\n",
       "\n",
       "    .dataframe thead th {\n",
       "        text-align: right;\n",
       "    }\n",
       "</style>\n",
       "<table border=\"1\" class=\"dataframe\">\n",
       "  <thead>\n",
       "    <tr style=\"text-align: right;\">\n",
       "      <th></th>\n",
       "      <th>model</th>\n",
       "      <th>year</th>\n",
       "      <th>price</th>\n",
       "      <th>transmission</th>\n",
       "      <th>mileage</th>\n",
       "      <th>fuelType</th>\n",
       "      <th>tax</th>\n",
       "      <th>mpg</th>\n",
       "      <th>engineSize</th>\n",
       "    </tr>\n",
       "  </thead>\n",
       "  <tbody>\n",
       "    <tr>\n",
       "      <th>0</th>\n",
       "      <td>GT86</td>\n",
       "      <td>2016</td>\n",
       "      <td>16000</td>\n",
       "      <td>Manual</td>\n",
       "      <td>24089</td>\n",
       "      <td>Petrol</td>\n",
       "      <td>265</td>\n",
       "      <td>36.2</td>\n",
       "      <td>2.0</td>\n",
       "    </tr>\n",
       "    <tr>\n",
       "      <th>1</th>\n",
       "      <td>GT86</td>\n",
       "      <td>2017</td>\n",
       "      <td>15995</td>\n",
       "      <td>Manual</td>\n",
       "      <td>18615</td>\n",
       "      <td>Petrol</td>\n",
       "      <td>145</td>\n",
       "      <td>36.2</td>\n",
       "      <td>2.0</td>\n",
       "    </tr>\n",
       "    <tr>\n",
       "      <th>2</th>\n",
       "      <td>GT86</td>\n",
       "      <td>2015</td>\n",
       "      <td>13998</td>\n",
       "      <td>Manual</td>\n",
       "      <td>27469</td>\n",
       "      <td>Petrol</td>\n",
       "      <td>265</td>\n",
       "      <td>36.2</td>\n",
       "      <td>2.0</td>\n",
       "    </tr>\n",
       "    <tr>\n",
       "      <th>3</th>\n",
       "      <td>GT86</td>\n",
       "      <td>2017</td>\n",
       "      <td>18998</td>\n",
       "      <td>Manual</td>\n",
       "      <td>14736</td>\n",
       "      <td>Petrol</td>\n",
       "      <td>150</td>\n",
       "      <td>36.2</td>\n",
       "      <td>2.0</td>\n",
       "    </tr>\n",
       "    <tr>\n",
       "      <th>4</th>\n",
       "      <td>GT86</td>\n",
       "      <td>2017</td>\n",
       "      <td>17498</td>\n",
       "      <td>Manual</td>\n",
       "      <td>36284</td>\n",
       "      <td>Petrol</td>\n",
       "      <td>145</td>\n",
       "      <td>36.2</td>\n",
       "      <td>2.0</td>\n",
       "    </tr>\n",
       "  </tbody>\n",
       "</table>\n",
       "</div>"
      ],
      "text/plain": [
       "   model  year  price transmission  mileage fuelType  tax   mpg  engineSize\n",
       "0   GT86  2016  16000       Manual    24089   Petrol  265  36.2         2.0\n",
       "1   GT86  2017  15995       Manual    18615   Petrol  145  36.2         2.0\n",
       "2   GT86  2015  13998       Manual    27469   Petrol  265  36.2         2.0\n",
       "3   GT86  2017  18998       Manual    14736   Petrol  150  36.2         2.0\n",
       "4   GT86  2017  17498       Manual    36284   Petrol  145  36.2         2.0"
      ]
     },
     "execution_count": 115,
     "metadata": {},
     "output_type": "execute_result"
    }
   ],
   "source": [
    "df.head()"
   ]
  },
  {
   "cell_type": "markdown",
   "id": "6ca42d60-c2d0-4202-80e8-28469ca3a935",
   "metadata": {
    "tags": []
   },
   "source": [
    "### Data cleaning"
   ]
  },
  {
   "cell_type": "markdown",
   "id": "b20cdb94-787a-472d-b774-207ba9b28894",
   "metadata": {},
   "source": [
    "- **convert all the 'None' values in the object datatype to check if there is hidden null values.**"
   ]
  },
  {
   "cell_type": "code",
   "execution_count": 116,
   "id": "6901b717-2593-4783-b991-fe6d6db9a4f1",
   "metadata": {},
   "outputs": [],
   "source": [
    "df.replace(to_replace=['None'], value=np.nan, inplace=True)"
   ]
  },
  {
   "cell_type": "markdown",
   "id": "a541b72e-dfef-4e77-ad37-f5308c47a3ad",
   "metadata": {},
   "source": [
    "- **check for nulls by info method.**"
   ]
  },
  {
   "cell_type": "code",
   "execution_count": 117,
   "id": "6b0ae929-58c0-48ee-83c0-ccf9cee174ff",
   "metadata": {},
   "outputs": [
    {
     "name": "stdout",
     "output_type": "stream",
     "text": [
      "<class 'pandas.core.frame.DataFrame'>\n",
      "RangeIndex: 6738 entries, 0 to 6737\n",
      "Data columns (total 9 columns):\n",
      " #   Column        Non-Null Count  Dtype  \n",
      "---  ------        --------------  -----  \n",
      " 0   model         6738 non-null   object \n",
      " 1   year          6738 non-null   int64  \n",
      " 2   price         6738 non-null   int64  \n",
      " 3   transmission  6738 non-null   object \n",
      " 4   mileage       6738 non-null   int64  \n",
      " 5   fuelType      6738 non-null   object \n",
      " 6   tax           6738 non-null   int64  \n",
      " 7   mpg           6738 non-null   float64\n",
      " 8   engineSize    6738 non-null   float64\n",
      "dtypes: float64(2), int64(4), object(3)\n",
      "memory usage: 473.9+ KB\n"
     ]
    }
   ],
   "source": [
    "df.info()"
   ]
  },
  {
   "cell_type": "markdown",
   "id": "0733a49a-9896-4150-8db4-59ae6ea5fa9d",
   "metadata": {},
   "source": [
    "- **now check for duplicates and drop them if found.**"
   ]
  },
  {
   "cell_type": "code",
   "execution_count": 118,
   "id": "caef3ea4-c818-4f96-960b-0270a416887a",
   "metadata": {},
   "outputs": [
    {
     "data": {
      "text/plain": [
       "39"
      ]
     },
     "execution_count": 118,
     "metadata": {},
     "output_type": "execute_result"
    }
   ],
   "source": [
    "df.duplicated().sum()"
   ]
  },
  {
   "cell_type": "code",
   "execution_count": 119,
   "id": "39e67cdd-9de4-4460-b05c-1625c204c0e8",
   "metadata": {},
   "outputs": [],
   "source": [
    "df.drop_duplicates(inplace=True)"
   ]
  },
  {
   "cell_type": "code",
   "execution_count": 120,
   "id": "4da1778e-e031-4552-8c84-8d3e0e9eb35c",
   "metadata": {},
   "outputs": [
    {
     "name": "stdout",
     "output_type": "stream",
     "text": [
      "<class 'pandas.core.frame.DataFrame'>\n",
      "Int64Index: 6699 entries, 0 to 6737\n",
      "Data columns (total 9 columns):\n",
      " #   Column        Non-Null Count  Dtype  \n",
      "---  ------        --------------  -----  \n",
      " 0   model         6699 non-null   object \n",
      " 1   year          6699 non-null   int64  \n",
      " 2   price         6699 non-null   int64  \n",
      " 3   transmission  6699 non-null   object \n",
      " 4   mileage       6699 non-null   int64  \n",
      " 5   fuelType      6699 non-null   object \n",
      " 6   tax           6699 non-null   int64  \n",
      " 7   mpg           6699 non-null   float64\n",
      " 8   engineSize    6699 non-null   float64\n",
      "dtypes: float64(2), int64(4), object(3)\n",
      "memory usage: 523.4+ KB\n"
     ]
    }
   ],
   "source": [
    "df.info()"
   ]
  },
  {
   "cell_type": "markdown",
   "id": "425262cd-17c1-4a06-940e-16b24a0aed74",
   "metadata": {},
   "source": [
    "### Check range of the numeric values "
   ]
  },
  {
   "cell_type": "code",
   "execution_count": 121,
   "id": "aab87c88-81aa-4bc7-a041-ef2b1317d8ff",
   "metadata": {},
   "outputs": [
    {
     "data": {
      "application/com.datacamp.data-table.v1+json": {
       "is_truncated": false,
       "table": {
        "data": [
         {
          "engineSize": 6699,
          "index": "count",
          "mileage": 6699,
          "mpg": 6699,
          "price": 6699,
          "tax": 6699,
          "year": 6699
         },
         {
          "engineSize": 1.4719958203,
          "index": "mean",
          "mileage": 22889.5887445887,
          "mpg": 63.0787281684,
          "price": 12529.7990744887,
          "tax": 94.5499328258,
          "year": 2016.7427974325
         },
         {
          "engineSize": 0.4356237511,
          "index": "std",
          "mileage": 19109.2885011609,
          "mpg": 15.8610371372,
          "price": 6358.5626252507,
          "tax": 73.9426492953,
          "year": 2.2052707017
         },
         {
          "engineSize": 0,
          "index": "min",
          "mileage": 2,
          "mpg": 2.8,
          "price": 850,
          "tax": 0,
          "year": 1998
         },
         {
          "engineSize": 1,
          "index": "25%",
          "mileage": 9488.5,
          "mpg": 55.4,
          "price": 8266.5,
          "tax": 0,
          "year": 2016
         },
         {
          "engineSize": 1.5,
          "index": "50%",
          "mileage": 18571,
          "mpg": 62.8,
          "price": 10798,
          "tax": 135,
          "year": 2017
         },
         {
          "engineSize": 1.8,
          "index": "75%",
          "mileage": 31059.5,
          "mpg": 70.6,
          "price": 14995,
          "tax": 145,
          "year": 2018
         },
         {
          "engineSize": 4.5,
          "index": "max",
          "mileage": 174419,
          "mpg": 235,
          "price": 59995,
          "tax": 565,
          "year": 2020
         }
        ],
        "schema": {
         "fields": [
          {
           "name": "index",
           "type": "string"
          },
          {
           "name": "year",
           "type": "number"
          },
          {
           "name": "price",
           "type": "number"
          },
          {
           "name": "mileage",
           "type": "number"
          },
          {
           "name": "tax",
           "type": "number"
          },
          {
           "name": "mpg",
           "type": "number"
          },
          {
           "name": "engineSize",
           "type": "number"
          }
         ],
         "pandas_version": "1.4.0",
         "primaryKey": [
          "index"
         ]
        }
       },
       "total_rows": 8
      },
      "text/html": [
       "<div>\n",
       "<style scoped>\n",
       "    .dataframe tbody tr th:only-of-type {\n",
       "        vertical-align: middle;\n",
       "    }\n",
       "\n",
       "    .dataframe tbody tr th {\n",
       "        vertical-align: top;\n",
       "    }\n",
       "\n",
       "    .dataframe thead th {\n",
       "        text-align: right;\n",
       "    }\n",
       "</style>\n",
       "<table border=\"1\" class=\"dataframe\">\n",
       "  <thead>\n",
       "    <tr style=\"text-align: right;\">\n",
       "      <th></th>\n",
       "      <th>year</th>\n",
       "      <th>price</th>\n",
       "      <th>mileage</th>\n",
       "      <th>tax</th>\n",
       "      <th>mpg</th>\n",
       "      <th>engineSize</th>\n",
       "    </tr>\n",
       "  </thead>\n",
       "  <tbody>\n",
       "    <tr>\n",
       "      <th>count</th>\n",
       "      <td>6699.000000</td>\n",
       "      <td>6699.000000</td>\n",
       "      <td>6699.000000</td>\n",
       "      <td>6699.000000</td>\n",
       "      <td>6699.000000</td>\n",
       "      <td>6699.000000</td>\n",
       "    </tr>\n",
       "    <tr>\n",
       "      <th>mean</th>\n",
       "      <td>2016.742797</td>\n",
       "      <td>12529.799074</td>\n",
       "      <td>22889.588745</td>\n",
       "      <td>94.549933</td>\n",
       "      <td>63.078728</td>\n",
       "      <td>1.471996</td>\n",
       "    </tr>\n",
       "    <tr>\n",
       "      <th>std</th>\n",
       "      <td>2.205271</td>\n",
       "      <td>6358.562625</td>\n",
       "      <td>19109.288501</td>\n",
       "      <td>73.942649</td>\n",
       "      <td>15.861037</td>\n",
       "      <td>0.435624</td>\n",
       "    </tr>\n",
       "    <tr>\n",
       "      <th>min</th>\n",
       "      <td>1998.000000</td>\n",
       "      <td>850.000000</td>\n",
       "      <td>2.000000</td>\n",
       "      <td>0.000000</td>\n",
       "      <td>2.800000</td>\n",
       "      <td>0.000000</td>\n",
       "    </tr>\n",
       "    <tr>\n",
       "      <th>25%</th>\n",
       "      <td>2016.000000</td>\n",
       "      <td>8266.500000</td>\n",
       "      <td>9488.500000</td>\n",
       "      <td>0.000000</td>\n",
       "      <td>55.400000</td>\n",
       "      <td>1.000000</td>\n",
       "    </tr>\n",
       "    <tr>\n",
       "      <th>50%</th>\n",
       "      <td>2017.000000</td>\n",
       "      <td>10798.000000</td>\n",
       "      <td>18571.000000</td>\n",
       "      <td>135.000000</td>\n",
       "      <td>62.800000</td>\n",
       "      <td>1.500000</td>\n",
       "    </tr>\n",
       "    <tr>\n",
       "      <th>75%</th>\n",
       "      <td>2018.000000</td>\n",
       "      <td>14995.000000</td>\n",
       "      <td>31059.500000</td>\n",
       "      <td>145.000000</td>\n",
       "      <td>70.600000</td>\n",
       "      <td>1.800000</td>\n",
       "    </tr>\n",
       "    <tr>\n",
       "      <th>max</th>\n",
       "      <td>2020.000000</td>\n",
       "      <td>59995.000000</td>\n",
       "      <td>174419.000000</td>\n",
       "      <td>565.000000</td>\n",
       "      <td>235.000000</td>\n",
       "      <td>4.500000</td>\n",
       "    </tr>\n",
       "  </tbody>\n",
       "</table>\n",
       "</div>"
      ],
      "text/plain": [
       "              year         price        mileage          tax          mpg  \\\n",
       "count  6699.000000   6699.000000    6699.000000  6699.000000  6699.000000   \n",
       "mean   2016.742797  12529.799074   22889.588745    94.549933    63.078728   \n",
       "std       2.205271   6358.562625   19109.288501    73.942649    15.861037   \n",
       "min    1998.000000    850.000000       2.000000     0.000000     2.800000   \n",
       "25%    2016.000000   8266.500000    9488.500000     0.000000    55.400000   \n",
       "50%    2017.000000  10798.000000   18571.000000   135.000000    62.800000   \n",
       "75%    2018.000000  14995.000000   31059.500000   145.000000    70.600000   \n",
       "max    2020.000000  59995.000000  174419.000000   565.000000   235.000000   \n",
       "\n",
       "        engineSize  \n",
       "count  6699.000000  \n",
       "mean      1.471996  \n",
       "std       0.435624  \n",
       "min       0.000000  \n",
       "25%       1.000000  \n",
       "50%       1.500000  \n",
       "75%       1.800000  \n",
       "max       4.500000  "
      ]
     },
     "execution_count": 121,
     "metadata": {},
     "output_type": "execute_result"
    }
   ],
   "source": [
    "df.describe()"
   ]
  },
  {
   "cell_type": "markdown",
   "id": "c6e8fbe7-cf9e-48a0-9c8b-1c3d5ee03f1d",
   "metadata": {},
   "source": [
    "- **There is a min value of 0 for the enginesize lets explore more.**"
   ]
  },
  {
   "cell_type": "code",
   "execution_count": 122,
   "id": "10a4cbee-9921-4999-a675-f1d48001a068",
   "metadata": {},
   "outputs": [
    {
     "data": {
      "text/plain": [
       "4.2       1\n",
       "4.5       1\n",
       "0.0       6\n",
       "3.0      34\n",
       "2.8      36\n",
       "1.4      40\n",
       "2.2      58\n",
       "2.4      70\n",
       "1.6     166\n",
       "2.5     247\n",
       "1.2     300\n",
       "2.0     394\n",
       "1.3     600\n",
       "1.8    1289\n",
       "1.5    1419\n",
       "1.0    2038\n",
       "Name: engineSize, dtype: int64"
      ]
     },
     "execution_count": 122,
     "metadata": {},
     "output_type": "execute_result"
    }
   ],
   "source": [
    "df['engineSize'].value_counts().sort_values()"
   ]
  },
  {
   "cell_type": "markdown",
   "id": "15ca14cc-77a5-471b-a283-6f1cb8a17276",
   "metadata": {},
   "source": [
    "- **I will remove it as it was not expected.**"
   ]
  },
  {
   "cell_type": "code",
   "execution_count": 123,
   "id": "b01dcb58-7efb-4467-a0df-2faf2813a22a",
   "metadata": {},
   "outputs": [],
   "source": [
    "filter = df['engineSize']==0"
   ]
  },
  {
   "cell_type": "code",
   "execution_count": 124,
   "id": "43307767-c5d2-422d-b05f-96bb85e0e2a4",
   "metadata": {},
   "outputs": [],
   "source": [
    "df = df[~filter]"
   ]
  },
  {
   "cell_type": "code",
   "execution_count": 125,
   "id": "038b0128-9807-452a-8475-db060c9a76c5",
   "metadata": {},
   "outputs": [
    {
     "data": {
      "text/plain": [
       "4.2       1\n",
       "4.5       1\n",
       "3.0      34\n",
       "2.8      36\n",
       "1.4      40\n",
       "2.2      58\n",
       "2.4      70\n",
       "1.6     166\n",
       "2.5     247\n",
       "1.2     300\n",
       "2.0     394\n",
       "1.3     600\n",
       "1.8    1289\n",
       "1.5    1419\n",
       "1.0    2038\n",
       "Name: engineSize, dtype: int64"
      ]
     },
     "execution_count": 125,
     "metadata": {},
     "output_type": "execute_result"
    }
   ],
   "source": [
    "df['engineSize'].value_counts().sort_values()"
   ]
  },
  {
   "cell_type": "markdown",
   "id": "0eb17a98-a488-4784-bae8-54831d6c1dd8",
   "metadata": {
    "tags": []
   },
   "source": [
    "## Data Visualization and Analysis."
   ]
  },
  {
   "cell_type": "markdown",
   "id": "82d670e0-5f0c-4611-8019-e6a56c442aaf",
   "metadata": {
    "tags": []
   },
   "source": [
    "### Distributions of numeric features"
   ]
  },
  {
   "cell_type": "code",
   "execution_count": 126,
   "id": "1077209a-4aa7-4c82-90e7-cd9670cdced5",
   "metadata": {},
   "outputs": [
    {
     "data": {
      "text/plain": [
       "<AxesSubplot:xlabel='engineSize', ylabel='Density'>"
      ]
     },
     "execution_count": 126,
     "metadata": {},
     "output_type": "execute_result"
    },
    {
     "data": {
      "image/png": "[encoded data removed]",
      "text/plain": [
       "<Figure size 1080x720 with 6 Axes>"
      ]
     },
     "metadata": {
      "needs_background": "light"
     },
     "output_type": "display_data"
    }
   ],
   "source": [
    "fig, axes = plt.subplots(2, 3, figsize=(15, 10))\n",
    " \n",
    "fig.suptitle('Numerical column distribution')\n",
    "numerical_features=df[['year','price','mileage','tax','mpg','engineSize']]\n",
    "\n",
    "sns.distplot(df['year'],ax=axes[0, 0] ,rug=True, hist=False)\n",
    "sns.distplot(df['price'],ax=axes[0, 1] ,rug=True, hist=False)\n",
    "sns.distplot( df['mileage'],ax=axes[0, 2] ,rug=True, hist=False)\n",
    "sns.distplot( df['tax'],ax=axes[1, 0] ,rug=True, hist=False)\n",
    "sns.distplot( df['mpg'],ax=axes[1, 1] ,rug=True, hist=False)\n",
    "sns.distplot( df['engineSize'],ax=axes[1, 2] ,rug=True, hist=False)"
   ]
  },
  {
   "cell_type": "markdown",
   "id": "a4915c8c",
   "metadata": {},
   "source": [
    "- we cam see that most of the cars were produced between 2010 and 2020, with average mean price of  approximately 13000"
   ]
  },
  {
   "cell_type": "markdown",
   "id": "f7dd51dc-6b1a-40b5-a46c-c9275a6e089c",
   "metadata": {},
   "source": [
    "### Distributions of categrical features"
   ]
  },
  {
   "cell_type": "code",
   "execution_count": 127,
   "id": "225802ae-cba8-4926-a571-e0abc4ca302d",
   "metadata": {},
   "outputs": [
    {
     "data": {
      "text/plain": [
       "<AxesSubplot:xlabel='fuelType', ylabel='count'>"
      ]
     },
     "execution_count": 127,
     "metadata": {},
     "output_type": "execute_result"
    },
    {
     "data": {
      "image/png": "[encoded data removed]",
      "text/plain": [
       "<Figure size 1080x432 with 2 Axes>"
      ]
     },
     "metadata": {
      "needs_background": "light"
     },
     "output_type": "display_data"
    }
   ],
   "source": [
    "fig, axes = plt.subplots(1, 2, figsize=(15, 6))\n",
    "fig.suptitle('Distributions of transmission and fuel type')\n",
    "\n",
    "sns.countplot(ax=axes[0], x='transmission',data=df,palette=\"Set2\")\n",
    "sns.countplot(ax=axes[1], x='fuelType',data=df)\n"
   ]
  },
  {
   "cell_type": "markdown",
   "id": "fb3028db-f492-438d-93f4-ad006a06b67b",
   "metadata": {},
   "source": [
    "- **lets explore transmission column more.**"
   ]
  },
  {
   "cell_type": "code",
   "execution_count": 128,
   "id": "d19f147e-efb3-4a9e-991b-24d931ba3ee7",
   "metadata": {},
   "outputs": [
    {
     "data": {
      "text/plain": [
       "Manual       3788\n",
       "Automatic    2650\n",
       "Semi-Auto     254\n",
       "Other           1\n",
       "Name: transmission, dtype: int64"
      ]
     },
     "execution_count": 128,
     "metadata": {},
     "output_type": "execute_result"
    }
   ],
   "source": [
    "df['transmission'].value_counts()"
   ]
  },
  {
   "cell_type": "markdown",
   "id": "fd8fefc8-252c-4fd2-9927-0d1486ad1456",
   "metadata": {},
   "source": [
    "- **I think the other value in the transmission is written by mistake and also compared to the count of the other unique values it can be removed.**"
   ]
  },
  {
   "cell_type": "code",
   "execution_count": 129,
   "id": "5c71e378-b47b-4df8-b38c-7f9525bc59e5",
   "metadata": {},
   "outputs": [],
   "source": [
    "filter = df['transmission']== 'Other'"
   ]
  },
  {
   "cell_type": "code",
   "execution_count": 130,
   "id": "17037730-a854-444c-94eb-f7ac68489817",
   "metadata": {},
   "outputs": [],
   "source": [
    "df = df[~filter]"
   ]
  },
  {
   "cell_type": "code",
   "execution_count": 131,
   "id": "4f139553-d551-4767-87ca-b87ecba03558",
   "metadata": {},
   "outputs": [
    {
     "data": {
      "text/plain": [
       "Manual       3788\n",
       "Automatic    2650\n",
       "Semi-Auto     254\n",
       "Name: transmission, dtype: int64"
      ]
     },
     "execution_count": 131,
     "metadata": {},
     "output_type": "execute_result"
    }
   ],
   "source": [
    "df['transmission'].value_counts()"
   ]
  },
  {
   "cell_type": "code",
   "execution_count": 132,
   "id": "3d0ebc21-50ee-43b8-b834-d38c3421ddc8",
   "metadata": {},
   "outputs": [
    {
     "data": {
      "image/png": "[encoded data removed]",
      "text/plain": [
       "<Figure size 936x432 with 1 Axes>"
      ]
     },
     "metadata": {
      "needs_background": "light"
     },
     "output_type": "display_data"
    }
   ],
   "source": [
    "plt.figure(figsize=(13,6))\n",
    "carModel_dist=sns.countplot(x='model',data=df,palette=\"Set2\")\n",
    "carModel_dist.set_xticklabels( carModel_dist.get_xticklabels(),rotation=30)\n",
    "carModel_dist.set_yticklabels(carModel_dist.get_yticklabels(), rotation=30)\n",
    "plt.show()"
   ]
  },
  {
   "cell_type": "code",
   "execution_count": 133,
   "id": "e7722a81-a203-494a-887c-72086e0c7f1f",
   "metadata": {},
   "outputs": [
    {
     "data": {
      "text/plain": [
       " Yaris            2114\n",
       " Aygo             1937\n",
       " Auris             709\n",
       " C-HR              478\n",
       " RAV4              467\n",
       " Corolla           265\n",
       " Prius             232\n",
       " Verso             114\n",
       " Avensis           114\n",
       " Hilux              85\n",
       " GT86               73\n",
       " Land Cruiser       51\n",
       " PROACE VERSO       15\n",
       " Supra              12\n",
       " Camry              11\n",
       " IQ                  8\n",
       " Urban Cruiser       4\n",
       " Verso-S             3\n",
       "Name: model, dtype: int64"
      ]
     },
     "execution_count": 133,
     "metadata": {},
     "output_type": "execute_result"
    }
   ],
   "source": [
    "df['model'].value_counts()"
   ]
  },
  {
   "cell_type": "markdown",
   "id": "6c53918c-b8e2-4942-9577-6d92acd39d57",
   "metadata": {
    "tags": []
   },
   "source": [
    "### Correlation matrix"
   ]
  },
  {
   "cell_type": "code",
   "execution_count": 134,
   "id": "7388689f-ef0d-4c74-bde0-1e62512ffbf4",
   "metadata": {},
   "outputs": [
    {
     "data": {
      "image/png": "[encoded data removed]",
      "text/plain": [
       "<Figure size 1080x576 with 2 Axes>"
      ]
     },
     "metadata": {
      "needs_background": "light"
     },
     "output_type": "display_data"
    }
   ],
   "source": [
    "plt.figure(figsize=(15,8))\n",
    "plt.title('Correlation Heatmap of Toyota cars Dataset')\n",
    "cmap = sns.diverging_palette(160, 15, as_cmap=True)\n",
    "htMap=sns.heatmap(df.corr(), annot=True,cmap=cmap)\n",
    "\n",
    "htMap.set_xticklabels(htMap.get_xticklabels(), rotation=30)\n",
    "htMap.set_yticklabels(htMap.get_yticklabels(), rotation=30)\n",
    "plt.show()\n"
   ]
  },
  {
   "cell_type": "markdown",
   "id": "398a24fb-fddd-4e70-9982-efebae4d4e2c",
   "metadata": {},
   "source": [
    "- **It is shown here that price is highly correlated to the engine size.**\n",
    "- **Price is also positive correlated with year and tax while  negatively correlated with mileage and mpg.**"
   ]
  },
  {
   "cell_type": "markdown",
   "id": "ac2ad0f4-deab-4fe5-9247-92b191a03867",
   "metadata": {
    "tags": []
   },
   "source": [
    "### Price ranges variation with car model "
   ]
  },
  {
   "cell_type": "code",
   "execution_count": 135,
   "id": "1ce27fc7-762f-49c4-bf3f-639a60d5676c",
   "metadata": {},
   "outputs": [
    {
     "data": {
      "text/plain": [
       "array([' GT86', ' Corolla', ' RAV4', ' Yaris', ' Auris', ' Aygo', ' C-HR',\n",
       "       ' Prius', ' Avensis', ' Verso', ' Hilux', ' PROACE VERSO',\n",
       "       ' Land Cruiser', ' Supra', ' Camry', ' Verso-S', ' IQ',\n",
       "       ' Urban Cruiser'], dtype=object)"
      ]
     },
     "execution_count": 135,
     "metadata": {},
     "output_type": "execute_result"
    }
   ],
   "source": [
    "df['model'].unique()"
   ]
  },
  {
   "cell_type": "code",
   "execution_count": 136,
   "id": "93ab7f9a-0128-4214-84fc-301f278d0f4d",
   "metadata": {},
   "outputs": [
    {
     "data": {
      "application/com.datacamp.data-table.v1+json": {
       "is_truncated": false,
       "table": {
        "data": [
         {
          "index": 8,
          "model": " IQ",
          "price": 4247.25
         },
         {
          "index": 14,
          "model": " Urban Cruiser",
          "price": 4617.5
         },
         {
          "index": 16,
          "model": " Verso-S",
          "price": 5746.6666666667
         },
         {
          "index": 2,
          "model": " Aygo",
          "price": 7886.1352607124
         },
         {
          "index": 1,
          "model": " Avensis",
          "price": 9878.1228070175
         },
         {
          "index": 17,
          "model": " Yaris",
          "price": 10546.7360454115
         },
         {
          "index": 15,
          "model": " Verso",
          "price": 12169.1578947368
         },
         {
          "index": 0,
          "model": " Auris",
          "price": 12524.730606488
         },
         {
          "index": 12,
          "model": " RAV4",
          "price": 18200.4218415418
         },
         {
          "index": 11,
          "model": " Prius",
          "price": 18998.8448275862
         },
         {
          "index": 6,
          "model": " GT86",
          "price": 19908.8493150685
         },
         {
          "index": 3,
          "model": " C-HR",
          "price": 20664.8284518828
         },
         {
          "index": 5,
          "model": " Corolla",
          "price": 20972.6754716981
         },
         {
          "index": 7,
          "model": " Hilux",
          "price": 21581.1764705882
         },
         {
          "index": 4,
          "model": " Camry",
          "price": 26910.0909090909
         },
         {
          "index": 10,
          "model": " PROACE VERSO",
          "price": 28680.2
         },
         {
          "index": 9,
          "model": " Land Cruiser",
          "price": 36487.1568627451
         },
         {
          "index": 13,
          "model": " Supra",
          "price": 50741
         }
        ],
        "schema": {
         "fields": [
          {
           "name": "index",
           "type": "integer"
          },
          {
           "name": "model",
           "type": "string"
          },
          {
           "name": "price",
           "type": "number"
          }
         ],
         "pandas_version": "1.4.0",
         "primaryKey": [
          "index"
         ]
        }
       },
       "total_rows": 18
      },
      "text/html": [
       "<div>\n",
       "<style scoped>\n",
       "    .dataframe tbody tr th:only-of-type {\n",
       "        vertical-align: middle;\n",
       "    }\n",
       "\n",
       "    .dataframe tbody tr th {\n",
       "        vertical-align: top;\n",
       "    }\n",
       "\n",
       "    .dataframe thead th {\n",
       "        text-align: right;\n",
       "    }\n",
       "</style>\n",
       "<table border=\"1\" class=\"dataframe\">\n",
       "  <thead>\n",
       "    <tr style=\"text-align: right;\">\n",
       "      <th></th>\n",
       "      <th>model</th>\n",
       "      <th>price</th>\n",
       "    </tr>\n",
       "  </thead>\n",
       "  <tbody>\n",
       "    <tr>\n",
       "      <th>8</th>\n",
       "      <td>IQ</td>\n",
       "      <td>4247.250000</td>\n",
       "    </tr>\n",
       "    <tr>\n",
       "      <th>14</th>\n",
       "      <td>Urban Cruiser</td>\n",
       "      <td>4617.500000</td>\n",
       "    </tr>\n",
       "    <tr>\n",
       "      <th>16</th>\n",
       "      <td>Verso-S</td>\n",
       "      <td>5746.666667</td>\n",
       "    </tr>\n",
       "    <tr>\n",
       "      <th>2</th>\n",
       "      <td>Aygo</td>\n",
       "      <td>7886.135261</td>\n",
       "    </tr>\n",
       "    <tr>\n",
       "      <th>1</th>\n",
       "      <td>Avensis</td>\n",
       "      <td>9878.122807</td>\n",
       "    </tr>\n",
       "    <tr>\n",
       "      <th>17</th>\n",
       "      <td>Yaris</td>\n",
       "      <td>10546.736045</td>\n",
       "    </tr>\n",
       "    <tr>\n",
       "      <th>15</th>\n",
       "      <td>Verso</td>\n",
       "      <td>12169.157895</td>\n",
       "    </tr>\n",
       "    <tr>\n",
       "      <th>0</th>\n",
       "      <td>Auris</td>\n",
       "      <td>12524.730606</td>\n",
       "    </tr>\n",
       "    <tr>\n",
       "      <th>12</th>\n",
       "      <td>RAV4</td>\n",
       "      <td>18200.421842</td>\n",
       "    </tr>\n",
       "    <tr>\n",
       "      <th>11</th>\n",
       "      <td>Prius</td>\n",
       "      <td>18998.844828</td>\n",
       "    </tr>\n",
       "    <tr>\n",
       "      <th>6</th>\n",
       "      <td>GT86</td>\n",
       "      <td>19908.849315</td>\n",
       "    </tr>\n",
       "    <tr>\n",
       "      <th>3</th>\n",
       "      <td>C-HR</td>\n",
       "      <td>20664.828452</td>\n",
       "    </tr>\n",
       "    <tr>\n",
       "      <th>5</th>\n",
       "      <td>Corolla</td>\n",
       "      <td>20972.675472</td>\n",
       "    </tr>\n",
       "    <tr>\n",
       "      <th>7</th>\n",
       "      <td>Hilux</td>\n",
       "      <td>21581.176471</td>\n",
       "    </tr>\n",
       "    <tr>\n",
       "      <th>4</th>\n",
       "      <td>Camry</td>\n",
       "      <td>26910.090909</td>\n",
       "    </tr>\n",
       "    <tr>\n",
       "      <th>10</th>\n",
       "      <td>PROACE VERSO</td>\n",
       "      <td>28680.200000</td>\n",
       "    </tr>\n",
       "    <tr>\n",
       "      <th>9</th>\n",
       "      <td>Land Cruiser</td>\n",
       "      <td>36487.156863</td>\n",
       "    </tr>\n",
       "    <tr>\n",
       "      <th>13</th>\n",
       "      <td>Supra</td>\n",
       "      <td>50741.000000</td>\n",
       "    </tr>\n",
       "  </tbody>\n",
       "</table>\n",
       "</div>"
      ],
      "text/plain": [
       "             model         price\n",
       "8               IQ   4247.250000\n",
       "14   Urban Cruiser   4617.500000\n",
       "16         Verso-S   5746.666667\n",
       "2             Aygo   7886.135261\n",
       "1          Avensis   9878.122807\n",
       "17           Yaris  10546.736045\n",
       "15           Verso  12169.157895\n",
       "0            Auris  12524.730606\n",
       "12            RAV4  18200.421842\n",
       "11           Prius  18998.844828\n",
       "6             GT86  19908.849315\n",
       "3             C-HR  20664.828452\n",
       "5          Corolla  20972.675472\n",
       "7            Hilux  21581.176471\n",
       "4            Camry  26910.090909\n",
       "10    PROACE VERSO  28680.200000\n",
       "9     Land Cruiser  36487.156863\n",
       "13           Supra  50741.000000"
      ]
     },
     "execution_count": 136,
     "metadata": {},
     "output_type": "execute_result"
    }
   ],
   "source": [
    "model_avgPrice=df[['model','price']].groupby(['model'],as_index=False).mean().sort_values('price')\n",
    "model_avgPrice"
   ]
  },
  {
   "cell_type": "code",
   "execution_count": 137,
   "id": "7242afb5-8927-4c50-bf18-d4176e64a024",
   "metadata": {},
   "outputs": [
    {
     "data": {
      "image/png": "[encoded data removed]",
      "text/plain": [
       "<Figure size 936x432 with 1 Axes>"
      ]
     },
     "metadata": {
      "needs_background": "light"
     },
     "output_type": "display_data"
    }
   ],
   "source": [
    "plt.figure(figsize=(13,6))\n",
    "plt.title('Average prices for each car model')\n",
    "model_count= sns.barplot(x='model',y='price',data=model_avgPrice,palette=\"light:#5A9\")\n",
    "model_count.set_xticklabels( model_count.get_xticklabels(),rotation=30)\n",
    "model_count.set_yticklabels(model_count.get_yticklabels(), rotation=30)\n",
    "plt.show()"
   ]
  },
  {
   "cell_type": "markdown",
   "id": "66d856e4-d837-481f-bfbe-41529fc54ca2",
   "metadata": {},
   "source": [
    "- **it looks like model also affects the price**"
   ]
  },
  {
   "cell_type": "markdown",
   "id": "80ad83f9-29ce-4c2d-bf07-02e12b143d5a",
   "metadata": {
    "tags": []
   },
   "source": [
    "### Price variation with year"
   ]
  },
  {
   "cell_type": "code",
   "execution_count": 138,
   "id": "d0c1c979-afb8-4c0f-9ad6-bf5ae84cd3e0",
   "metadata": {},
   "outputs": [
    {
     "data": {
      "image/png": "[encoded data removed]",
      "text/plain": [
       "<Figure size 864x360 with 1 Axes>"
      ]
     },
     "metadata": {
      "needs_background": "light"
     },
     "output_type": "display_data"
    }
   ],
   "source": [
    "plt.figure(figsize=(12,5))\n",
    "plt.title('Price variation with year')\n",
    "sns.lineplot( x='year', y='price',data=df,palette=\"Set2\")\n",
    "plt.show()"
   ]
  },
  {
   "cell_type": "markdown",
   "id": "fa03596a-8ec6-4f88-a991-3165c5878aa1",
   "metadata": {},
   "source": [
    "- **the lineplot shown is not as expected.we will explore years column more.**"
   ]
  },
  {
   "cell_type": "code",
   "execution_count": 139,
   "id": "c05ef8a9-b63c-4f93-9940-d299c62c2f73",
   "metadata": {},
   "outputs": [],
   "source": [
    "years_prices=df[['year','price']].groupby(['year'],as_index=False).count()"
   ]
  },
  {
   "cell_type": "code",
   "execution_count": 140,
   "id": "13acd313-e7c7-440c-a2d9-b9fa7abd326f",
   "metadata": {},
   "outputs": [
    {
     "data": {
      "application/com.datacamp.data-table.v1+json": {
       "is_truncated": false,
       "table": {
        "data": [
         {
          "index": 0,
          "price": 1,
          "year": 1998
         },
         {
          "index": 1,
          "price": 1,
          "year": 1999
         },
         {
          "index": 2,
          "price": 1,
          "year": 2000
         },
         {
          "index": 3,
          "price": 1,
          "year": 2001
         },
         {
          "index": 4,
          "price": 4,
          "year": 2002
         },
         {
          "index": 5,
          "price": 6,
          "year": 2003
         },
         {
          "index": 6,
          "price": 7,
          "year": 2004
         },
         {
          "index": 7,
          "price": 12,
          "year": 2005
         },
         {
          "index": 8,
          "price": 11,
          "year": 2006
         },
         {
          "index": 9,
          "price": 20,
          "year": 2007
         },
         {
          "index": 10,
          "price": 19,
          "year": 2008
         },
         {
          "index": 11,
          "price": 29,
          "year": 2009
         },
         {
          "index": 12,
          "price": 18,
          "year": 2010
         },
         {
          "index": 13,
          "price": 40,
          "year": 2011
         },
         {
          "index": 14,
          "price": 42,
          "year": 2012
         },
         {
          "index": 15,
          "price": 203,
          "year": 2013
         },
         {
          "index": 16,
          "price": 351,
          "year": 2014
         },
         {
          "index": 17,
          "price": 521,
          "year": 2015
         },
         {
          "index": 18,
          "price": 988,
          "year": 2016
         },
         {
          "index": 19,
          "price": 2014,
          "year": 2017
         },
         {
          "index": 20,
          "price": 1014,
          "year": 2018
         },
         {
          "index": 21,
          "price": 1262,
          "year": 2019
         },
         {
          "index": 22,
          "price": 127,
          "year": 2020
         }
        ],
        "schema": {
         "fields": [
          {
           "name": "index",
           "type": "integer"
          },
          {
           "name": "year",
           "type": "integer"
          },
          {
           "name": "price",
           "type": "integer"
          }
         ],
         "pandas_version": "1.4.0",
         "primaryKey": [
          "index"
         ]
        }
       },
       "total_rows": 23
      },
      "text/html": [
       "<div>\n",
       "<style scoped>\n",
       "    .dataframe tbody tr th:only-of-type {\n",
       "        vertical-align: middle;\n",
       "    }\n",
       "\n",
       "    .dataframe tbody tr th {\n",
       "        vertical-align: top;\n",
       "    }\n",
       "\n",
       "    .dataframe thead th {\n",
       "        text-align: right;\n",
       "    }\n",
       "</style>\n",
       "<table border=\"1\" class=\"dataframe\">\n",
       "  <thead>\n",
       "    <tr style=\"text-align: right;\">\n",
       "      <th></th>\n",
       "      <th>year</th>\n",
       "      <th>price</th>\n",
       "    </tr>\n",
       "  </thead>\n",
       "  <tbody>\n",
       "    <tr>\n",
       "      <th>0</th>\n",
       "      <td>1998</td>\n",
       "      <td>1</td>\n",
       "    </tr>\n",
       "    <tr>\n",
       "      <th>1</th>\n",
       "      <td>1999</td>\n",
       "      <td>1</td>\n",
       "    </tr>\n",
       "    <tr>\n",
       "      <th>2</th>\n",
       "      <td>2000</td>\n",
       "      <td>1</td>\n",
       "    </tr>\n",
       "    <tr>\n",
       "      <th>3</th>\n",
       "      <td>2001</td>\n",
       "      <td>1</td>\n",
       "    </tr>\n",
       "    <tr>\n",
       "      <th>4</th>\n",
       "      <td>2002</td>\n",
       "      <td>4</td>\n",
       "    </tr>\n",
       "    <tr>\n",
       "      <th>5</th>\n",
       "      <td>2003</td>\n",
       "      <td>6</td>\n",
       "    </tr>\n",
       "    <tr>\n",
       "      <th>6</th>\n",
       "      <td>2004</td>\n",
       "      <td>7</td>\n",
       "    </tr>\n",
       "    <tr>\n",
       "      <th>7</th>\n",
       "      <td>2005</td>\n",
       "      <td>12</td>\n",
       "    </tr>\n",
       "    <tr>\n",
       "      <th>8</th>\n",
       "      <td>2006</td>\n",
       "      <td>11</td>\n",
       "    </tr>\n",
       "    <tr>\n",
       "      <th>9</th>\n",
       "      <td>2007</td>\n",
       "      <td>20</td>\n",
       "    </tr>\n",
       "    <tr>\n",
       "      <th>10</th>\n",
       "      <td>2008</td>\n",
       "      <td>19</td>\n",
       "    </tr>\n",
       "    <tr>\n",
       "      <th>11</th>\n",
       "      <td>2009</td>\n",
       "      <td>29</td>\n",
       "    </tr>\n",
       "    <tr>\n",
       "      <th>12</th>\n",
       "      <td>2010</td>\n",
       "      <td>18</td>\n",
       "    </tr>\n",
       "    <tr>\n",
       "      <th>13</th>\n",
       "      <td>2011</td>\n",
       "      <td>40</td>\n",
       "    </tr>\n",
       "    <tr>\n",
       "      <th>14</th>\n",
       "      <td>2012</td>\n",
       "      <td>42</td>\n",
       "    </tr>\n",
       "    <tr>\n",
       "      <th>15</th>\n",
       "      <td>2013</td>\n",
       "      <td>203</td>\n",
       "    </tr>\n",
       "    <tr>\n",
       "      <th>16</th>\n",
       "      <td>2014</td>\n",
       "      <td>351</td>\n",
       "    </tr>\n",
       "    <tr>\n",
       "      <th>17</th>\n",
       "      <td>2015</td>\n",
       "      <td>521</td>\n",
       "    </tr>\n",
       "    <tr>\n",
       "      <th>18</th>\n",
       "      <td>2016</td>\n",
       "      <td>988</td>\n",
       "    </tr>\n",
       "    <tr>\n",
       "      <th>19</th>\n",
       "      <td>2017</td>\n",
       "      <td>2014</td>\n",
       "    </tr>\n",
       "    <tr>\n",
       "      <th>20</th>\n",
       "      <td>2018</td>\n",
       "      <td>1014</td>\n",
       "    </tr>\n",
       "    <tr>\n",
       "      <th>21</th>\n",
       "      <td>2019</td>\n",
       "      <td>1262</td>\n",
       "    </tr>\n",
       "    <tr>\n",
       "      <th>22</th>\n",
       "      <td>2020</td>\n",
       "      <td>127</td>\n",
       "    </tr>\n",
       "  </tbody>\n",
       "</table>\n",
       "</div>"
      ],
      "text/plain": [
       "    year  price\n",
       "0   1998      1\n",
       "1   1999      1\n",
       "2   2000      1\n",
       "3   2001      1\n",
       "4   2002      4\n",
       "5   2003      6\n",
       "6   2004      7\n",
       "7   2005     12\n",
       "8   2006     11\n",
       "9   2007     20\n",
       "10  2008     19\n",
       "11  2009     29\n",
       "12  2010     18\n",
       "13  2011     40\n",
       "14  2012     42\n",
       "15  2013    203\n",
       "16  2014    351\n",
       "17  2015    521\n",
       "18  2016    988\n",
       "19  2017   2014\n",
       "20  2018   1014\n",
       "21  2019   1262\n",
       "22  2020    127"
      ]
     },
     "execution_count": 140,
     "metadata": {},
     "output_type": "execute_result"
    }
   ],
   "source": [
    "years_prices"
   ]
  },
  {
   "cell_type": "markdown",
   "id": "444d7b78-2036-4a41-ae5a-389fac0ad590",
   "metadata": {},
   "source": [
    "- **years column is unbalanced and I think considering one value for a whole year is missleading so lets remove the records from 1998 to 2001.**"
   ]
  },
  {
   "cell_type": "code",
   "execution_count": 141,
   "id": "879b0520-0dac-41b0-86b1-97155457ffdd",
   "metadata": {},
   "outputs": [],
   "source": [
    "filter = df['year']>=2002\n"
   ]
  },
  {
   "cell_type": "code",
   "execution_count": 142,
   "id": "2d849152-d52f-4a76-b3ec-3e695e7cb14c",
   "metadata": {},
   "outputs": [],
   "source": [
    "df = df[filter]"
   ]
  },
  {
   "cell_type": "code",
   "execution_count": 143,
   "id": "39809eae-1a6f-42b7-b99f-b2990b33fc8f",
   "metadata": {},
   "outputs": [
    {
     "data": {
      "text/plain": [
       "<AxesSubplot:xlabel='year', ylabel='price'>"
      ]
     },
     "execution_count": 143,
     "metadata": {},
     "output_type": "execute_result"
    },
    {
     "data": {
      "image/png": "[encoded data removed]",
      "text/plain": [
       "<Figure size 1080x432 with 2 Axes>"
      ]
     },
     "metadata": {
      "needs_background": "light"
     },
     "output_type": "display_data"
    }
   ],
   "source": [
    "fig, axes = plt.subplots(2, 1, figsize=(15, 6))\n",
    "fig.suptitle('Price variation with car year')\n",
    "\n",
    "sns.barplot(ax=axes[0], x='year', y='price',data=df,palette=\"Set2\")\n",
    "sns.lineplot(ax=axes[1], x='year', y='price',data=df)\n"
   ]
  },
  {
   "cell_type": "markdown",
   "id": "33540993-5703-48be-9ea6-b45b4721b806",
   "metadata": {},
   "source": [
    "- **now year feature is more reliable.**"
   ]
  },
  {
   "cell_type": "markdown",
   "id": "7dc67fbe-3782-4069-955c-75b41244d0df",
   "metadata": {
    "tags": []
   },
   "source": [
    "### Price variation with engine size"
   ]
  },
  {
   "cell_type": "code",
   "execution_count": 144,
   "id": "0f02c645-e884-4657-911b-846007b60d97",
   "metadata": {},
   "outputs": [
    {
     "data": {
      "text/plain": [
       "array([2. , 1.8, 1.2, 1.6, 1.4, 2.5, 2.2, 1.5, 1. , 1.3, 2.4, 3. , 2.8,\n",
       "       4.5])"
      ]
     },
     "execution_count": 144,
     "metadata": {},
     "output_type": "execute_result"
    }
   ],
   "source": [
    "df['engineSize'].unique()"
   ]
  },
  {
   "cell_type": "markdown",
   "id": "1a0be128-4fbf-4600-998b-b4a867bee7a6",
   "metadata": {},
   "source": [
    "- **since there is not alot of unique values we can try boxplot.**"
   ]
  },
  {
   "cell_type": "code",
   "execution_count": 79,
   "id": "ca1af62d-b27a-44eb-9c36-b931d1f708c8",
   "metadata": {},
   "outputs": [
    {
     "data": {
      "image/png": "[encoded data removed]",
      "text/plain": [
       "<Figure size 864x360 with 1 Axes>"
      ]
     },
     "metadata": {
      "needs_background": "light"
     },
     "output_type": "display_data"
    }
   ],
   "source": [
    "plt.figure(figsize=(12,5))\n",
    "plt.title('Price variation with engine size')\n",
    "sns.boxplot(x='engineSize', y='price',data=df)\n",
    "plt.show()"
   ]
  },
  {
   "cell_type": "markdown",
   "id": "66df1492-a621-45b7-9ea1-141149d4b598",
   "metadata": {
    "jp-MarkdownHeadingCollapsed": true,
    "tags": []
   },
   "source": [
    "### Price relation with mileage"
   ]
  },
  {
   "cell_type": "code",
   "execution_count": 31,
   "id": "281c90a8-a7b5-436f-a67b-174bbc651d48",
   "metadata": {},
   "outputs": [
    {
     "data": {
      "image/png": "[encoded data removed]",
      "text/plain": [
       "<Figure size 864x360 with 1 Axes>"
      ]
     },
     "metadata": {
      "needs_background": "light"
     },
     "output_type": "display_data"
    }
   ],
   "source": [
    "plt.figure(figsize=(12,5))\n",
    "sns.regplot( x='mileage', y='price',data=df)\n",
    "plt.show()"
   ]
  },
  {
   "cell_type": "markdown",
   "id": "4b407602-e781-4bdc-8a14-9b7b00823bc3",
   "metadata": {},
   "source": [
    "- **as we expected there is a negative correlation bettween the price and the mileage.**"
   ]
  },
  {
   "cell_type": "markdown",
   "id": "d176c1f0-5f37-48c1-9247-f0e86b7773fa",
   "metadata": {
    "tags": []
   },
   "source": [
    "### Price variation with transmission and fuel type"
   ]
  },
  {
   "cell_type": "code",
   "execution_count": 32,
   "id": "e62a1f55-a9c7-4f21-add5-8343099d7788",
   "metadata": {},
   "outputs": [
    {
     "data": {
      "text/plain": [
       "<AxesSubplot:xlabel='fuelType', ylabel='price'>"
      ]
     },
     "execution_count": 32,
     "metadata": {},
     "output_type": "execute_result"
    },
    {
     "data": {
      "image/png": "[encoded data removed]",
      "text/plain": [
       "<Figure size 1080x432 with 2 Axes>"
      ]
     },
     "metadata": {
      "needs_background": "light"
     },
     "output_type": "display_data"
    }
   ],
   "source": [
    "fig, axes = plt.subplots(1, 2, figsize=(15, 6))\n",
    "fig.suptitle('Price variation with transmission and fuel type')\n",
    "\n",
    "sns.boxplot(ax=axes[0], x='transmission', y='price',data=df,palette=\"Set2\")\n",
    "sns.boxplot(ax=axes[1], x='fuelType', y='price',data=df)\n"
   ]
  },
  {
   "cell_type": "markdown",
   "id": "9fc35ec5-4e04-4d2b-8b30-8c16d5400a10",
   "metadata": {},
   "source": [
    "**From these graphs we can see that**\n",
    "1. the price for the automatic transmission is higher than semi automatic and they are both higher than manual\n",
    "2. the price for hybrid cars is higher , while there is alot of outliers in price range for diesel cars."
   ]
  },
  {
   "cell_type": "markdown",
   "id": "91d3d8bd-5edc-4096-9a50-e269ab25c867",
   "metadata": {
    "tags": []
   },
   "source": [
    "## Feature Tranformation"
   ]
  },
  {
   "cell_type": "markdown",
   "id": "f97d633d-8ee7-4adc-b12f-13e4d069a011",
   "metadata": {},
   "source": [
    "- **Transforming the categorical features (model,transmission,fuelType) into numeric.**"
   ]
  },
  {
   "cell_type": "code",
   "execution_count": null,
   "id": "409b66dc-0fd6-4195-8942-dbc52636b83f",
   "metadata": {},
   "outputs": [],
   "source": [
    "df.head()"
   ]
  },
  {
   "cell_type": "markdown",
   "id": "d8ddccd7-4b18-4239-93ae-da5cc27586ec",
   "metadata": {},
   "source": [
    "- **I will check the number of each column categories to choose the suitble encoding technique.**"
   ]
  },
  {
   "cell_type": "code",
   "execution_count": 41,
   "id": "72f4112f-1f1e-4c42-bb19-b28360d92260",
   "metadata": {},
   "outputs": [
    {
     "name": "stdout",
     "output_type": "stream",
     "text": [
      "number of unqiue values in model feature: 18\n",
      "number of unqiue values in transmission feature: 3\n",
      "number of unqiue values in fuelType feature: 4\n"
     ]
    }
   ],
   "source": [
    "print(\"number of unqiue values in model feature:\",len(df['model'].unique()))\n",
    "print(\"number of unqiue values in transmission feature:\",len(df['transmission'].unique()))\n",
    "print(\"number of unqiue values in fuelType feature:\",len(df['fuelType'].unique()))"
   ]
  },
  {
   "cell_type": "markdown",
   "id": "102d5616-9eed-4cba-b1a3-79160982ae37",
   "metadata": {},
   "source": [
    "- **Since the number of unique values for the categorical feature is small enough therefore I will use onehot encoding.**  "
   ]
  },
  {
   "cell_type": "code",
   "execution_count": 42,
   "id": "52dde050-c2ba-4d87-9a43-dba2833b4df6",
   "metadata": {},
   "outputs": [],
   "source": [
    "encoder = OneHotEncoder(sparse=False)"
   ]
  },
  {
   "cell_type": "code",
   "execution_count": 43,
   "id": "f5e73260-a7d7-4226-b50a-ae40d4c1ab7a",
   "metadata": {},
   "outputs": [],
   "source": [
    "cat_vars = encoder.fit_transform(df[['model','transmission','fuelType']])"
   ]
  },
  {
   "cell_type": "code",
   "execution_count": 44,
   "id": "5196b5d5-06a5-4231-8880-f60a984388fa",
   "metadata": {},
   "outputs": [],
   "source": [
    "to_drop=['model','transmission','fuelType','price']\n",
    "X = df.drop(to_drop,axis=1)"
   ]
  },
  {
   "cell_type": "code",
   "execution_count": 45,
   "id": "eb1add16-6fb4-4ac0-acb9-7b007c95d889",
   "metadata": {},
   "outputs": [
    {
     "data": {
      "text/plain": [
       "(6688, 30)"
      ]
     },
     "execution_count": 45,
     "metadata": {},
     "output_type": "execute_result"
    }
   ],
   "source": [
    "X = np.concatenate((X, cat_vars),axis=1)\n",
    "X.shape"
   ]
  },
  {
   "cell_type": "code",
   "execution_count": 46,
   "id": "f0e72ec0-9bcb-4132-899f-78ac8776ec3b",
   "metadata": {},
   "outputs": [],
   "source": [
    "feature_names = ['year','mileage','tax','mpg','engineSize'] + list(encoder.get_feature_names(['model','transmission','fuelType']))\n",
    "X = pd.DataFrame(data=X, columns = feature_names)"
   ]
  },
  {
   "cell_type": "code",
   "execution_count": 47,
   "id": "960449bf-b025-41cb-8046-178f652f8949",
   "metadata": {},
   "outputs": [
    {
     "data": {
      "application/com.datacamp.data-table.v1+json": {
       "is_truncated": false,
       "table": {
        "data": [
         {
          "engineSize": 2,
          "fuelType_Diesel": 0,
          "fuelType_Hybrid": 0,
          "fuelType_Other": 0,
          "fuelType_Petrol": 1,
          "index": 0,
          "mileage": 24089,
          "model_ Auris": 0,
          "model_ Avensis": 0,
          "model_ Aygo": 0,
          "model_ C-HR": 0,
          "model_ Camry": 0,
          "model_ Corolla": 0,
          "model_ GT86": 1,
          "model_ Hilux": 0,
          "model_ IQ": 0,
          "model_ Land Cruiser": 0,
          "model_ PROACE VERSO": 0,
          "model_ Prius": 0,
          "model_ RAV4": 0,
          "model_ Supra": 0,
          "model_ Urban Cruiser": 0,
          "model_ Verso": 0,
          "model_ Verso-S": 0,
          "model_ Yaris": 0,
          "mpg": 36.2,
          "tax": 265,
          "transmission_Automatic": 0,
          "transmission_Manual": 1,
          "transmission_Semi-Auto": 0,
          "year": 2016
         },
         {
          "engineSize": 2,
          "fuelType_Diesel": 0,
          "fuelType_Hybrid": 0,
          "fuelType_Other": 0,
          "fuelType_Petrol": 1,
          "index": 1,
          "mileage": 18615,
          "model_ Auris": 0,
          "model_ Avensis": 0,
          "model_ Aygo": 0,
          "model_ C-HR": 0,
          "model_ Camry": 0,
          "model_ Corolla": 0,
          "model_ GT86": 1,
          "model_ Hilux": 0,
          "model_ IQ": 0,
          "model_ Land Cruiser": 0,
          "model_ PROACE VERSO": 0,
          "model_ Prius": 0,
          "model_ RAV4": 0,
          "model_ Supra": 0,
          "model_ Urban Cruiser": 0,
          "model_ Verso": 0,
          "model_ Verso-S": 0,
          "model_ Yaris": 0,
          "mpg": 36.2,
          "tax": 145,
          "transmission_Automatic": 0,
          "transmission_Manual": 1,
          "transmission_Semi-Auto": 0,
          "year": 2017
         },
         {
          "engineSize": 2,
          "fuelType_Diesel": 0,
          "fuelType_Hybrid": 0,
          "fuelType_Other": 0,
          "fuelType_Petrol": 1,
          "index": 2,
          "mileage": 27469,
          "model_ Auris": 0,
          "model_ Avensis": 0,
          "model_ Aygo": 0,
          "model_ C-HR": 0,
          "model_ Camry": 0,
          "model_ Corolla": 0,
          "model_ GT86": 1,
          "model_ Hilux": 0,
          "model_ IQ": 0,
          "model_ Land Cruiser": 0,
          "model_ PROACE VERSO": 0,
          "model_ Prius": 0,
          "model_ RAV4": 0,
          "model_ Supra": 0,
          "model_ Urban Cruiser": 0,
          "model_ Verso": 0,
          "model_ Verso-S": 0,
          "model_ Yaris": 0,
          "mpg": 36.2,
          "tax": 265,
          "transmission_Automatic": 0,
          "transmission_Manual": 1,
          "transmission_Semi-Auto": 0,
          "year": 2015
         },
         {
          "engineSize": 2,
          "fuelType_Diesel": 0,
          "fuelType_Hybrid": 0,
          "fuelType_Other": 0,
          "fuelType_Petrol": 1,
          "index": 3,
          "mileage": 14736,
          "model_ Auris": 0,
          "model_ Avensis": 0,
          "model_ Aygo": 0,
          "model_ C-HR": 0,
          "model_ Camry": 0,
          "model_ Corolla": 0,
          "model_ GT86": 1,
          "model_ Hilux": 0,
          "model_ IQ": 0,
          "model_ Land Cruiser": 0,
          "model_ PROACE VERSO": 0,
          "model_ Prius": 0,
          "model_ RAV4": 0,
          "model_ Supra": 0,
          "model_ Urban Cruiser": 0,
          "model_ Verso": 0,
          "model_ Verso-S": 0,
          "model_ Yaris": 0,
          "mpg": 36.2,
          "tax": 150,
          "transmission_Automatic": 0,
          "transmission_Manual": 1,
          "transmission_Semi-Auto": 0,
          "year": 2017
         },
         {
          "engineSize": 2,
          "fuelType_Diesel": 0,
          "fuelType_Hybrid": 0,
          "fuelType_Other": 0,
          "fuelType_Petrol": 1,
          "index": 4,
          "mileage": 36284,
          "model_ Auris": 0,
          "model_ Avensis": 0,
          "model_ Aygo": 0,
          "model_ C-HR": 0,
          "model_ Camry": 0,
          "model_ Corolla": 0,
          "model_ GT86": 1,
          "model_ Hilux": 0,
          "model_ IQ": 0,
          "model_ Land Cruiser": 0,
          "model_ PROACE VERSO": 0,
          "model_ Prius": 0,
          "model_ RAV4": 0,
          "model_ Supra": 0,
          "model_ Urban Cruiser": 0,
          "model_ Verso": 0,
          "model_ Verso-S": 0,
          "model_ Yaris": 0,
          "mpg": 36.2,
          "tax": 145,
          "transmission_Automatic": 0,
          "transmission_Manual": 1,
          "transmission_Semi-Auto": 0,
          "year": 2017
         }
        ],
        "schema": {
         "fields": [
          {
           "name": "index",
           "type": "integer"
          },
          {
           "name": "year",
           "type": "number"
          },
          {
           "name": "mileage",
           "type": "number"
          },
          {
           "name": "tax",
           "type": "number"
          },
          {
           "name": "mpg",
           "type": "number"
          },
          {
           "name": "engineSize",
           "type": "number"
          },
          {
           "name": "model_ Auris",
           "type": "number"
          },
          {
           "name": "model_ Avensis",
           "type": "number"
          },
          {
           "name": "model_ Aygo",
           "type": "number"
          },
          {
           "name": "model_ C-HR",
           "type": "number"
          },
          {
           "name": "model_ Camry",
           "type": "number"
          },
          {
           "name": "model_ Corolla",
           "type": "number"
          },
          {
           "name": "model_ GT86",
           "type": "number"
          },
          {
           "name": "model_ Hilux",
           "type": "number"
          },
          {
           "name": "model_ IQ",
           "type": "number"
          },
          {
           "name": "model_ Land Cruiser",
           "type": "number"
          },
          {
           "name": "model_ PROACE VERSO",
           "type": "number"
          },
          {
           "name": "model_ Prius",
           "type": "number"
          },
          {
           "name": "model_ RAV4",
           "type": "number"
          },
          {
           "name": "model_ Supra",
           "type": "number"
          },
          {
           "name": "model_ Urban Cruiser",
           "type": "number"
          },
          {
           "name": "model_ Verso",
           "type": "number"
          },
          {
           "name": "model_ Verso-S",
           "type": "number"
          },
          {
           "name": "model_ Yaris",
           "type": "number"
          },
          {
           "name": "transmission_Automatic",
           "type": "number"
          },
          {
           "name": "transmission_Manual",
           "type": "number"
          },
          {
           "name": "transmission_Semi-Auto",
           "type": "number"
          },
          {
           "name": "fuelType_Diesel",
           "type": "number"
          },
          {
           "name": "fuelType_Hybrid",
           "type": "number"
          },
          {
           "name": "fuelType_Other",
           "type": "number"
          },
          {
           "name": "fuelType_Petrol",
           "type": "number"
          }
         ],
         "pandas_version": "1.4.0",
         "primaryKey": [
          "index"
         ]
        }
       },
       "total_rows": 5
      },
      "text/html": [
       "<div>\n",
       "<style scoped>\n",
       "    .dataframe tbody tr th:only-of-type {\n",
       "        vertical-align: middle;\n",
       "    }\n",
       "\n",
       "    .dataframe tbody tr th {\n",
       "        vertical-align: top;\n",
       "    }\n",
       "\n",
       "    .dataframe thead th {\n",
       "        text-align: right;\n",
       "    }\n",
       "</style>\n",
       "<table border=\"1\" class=\"dataframe\">\n",
       "  <thead>\n",
       "    <tr style=\"text-align: right;\">\n",
       "      <th></th>\n",
       "      <th>year</th>\n",
       "      <th>mileage</th>\n",
       "      <th>tax</th>\n",
       "      <th>mpg</th>\n",
       "      <th>engineSize</th>\n",
       "      <th>model_ Auris</th>\n",
       "      <th>model_ Avensis</th>\n",
       "      <th>model_ Aygo</th>\n",
       "      <th>model_ C-HR</th>\n",
       "      <th>model_ Camry</th>\n",
       "      <th>...</th>\n",
       "      <th>model_ Verso</th>\n",
       "      <th>model_ Verso-S</th>\n",
       "      <th>model_ Yaris</th>\n",
       "      <th>transmission_Automatic</th>\n",
       "      <th>transmission_Manual</th>\n",
       "      <th>transmission_Semi-Auto</th>\n",
       "      <th>fuelType_Diesel</th>\n",
       "      <th>fuelType_Hybrid</th>\n",
       "      <th>fuelType_Other</th>\n",
       "      <th>fuelType_Petrol</th>\n",
       "    </tr>\n",
       "  </thead>\n",
       "  <tbody>\n",
       "    <tr>\n",
       "      <th>0</th>\n",
       "      <td>2016.0</td>\n",
       "      <td>24089.0</td>\n",
       "      <td>265.0</td>\n",
       "      <td>36.2</td>\n",
       "      <td>2.0</td>\n",
       "      <td>0.0</td>\n",
       "      <td>0.0</td>\n",
       "      <td>0.0</td>\n",
       "      <td>0.0</td>\n",
       "      <td>0.0</td>\n",
       "      <td>...</td>\n",
       "      <td>0.0</td>\n",
       "      <td>0.0</td>\n",
       "      <td>0.0</td>\n",
       "      <td>0.0</td>\n",
       "      <td>1.0</td>\n",
       "      <td>0.0</td>\n",
       "      <td>0.0</td>\n",
       "      <td>0.0</td>\n",
       "      <td>0.0</td>\n",
       "      <td>1.0</td>\n",
       "    </tr>\n",
       "    <tr>\n",
       "      <th>1</th>\n",
       "      <td>2017.0</td>\n",
       "      <td>18615.0</td>\n",
       "      <td>145.0</td>\n",
       "      <td>36.2</td>\n",
       "      <td>2.0</td>\n",
       "      <td>0.0</td>\n",
       "      <td>0.0</td>\n",
       "      <td>0.0</td>\n",
       "      <td>0.0</td>\n",
       "      <td>0.0</td>\n",
       "      <td>...</td>\n",
       "      <td>0.0</td>\n",
       "      <td>0.0</td>\n",
       "      <td>0.0</td>\n",
       "      <td>0.0</td>\n",
       "      <td>1.0</td>\n",
       "      <td>0.0</td>\n",
       "      <td>0.0</td>\n",
       "      <td>0.0</td>\n",
       "      <td>0.0</td>\n",
       "      <td>1.0</td>\n",
       "    </tr>\n",
       "    <tr>\n",
       "      <th>2</th>\n",
       "      <td>2015.0</td>\n",
       "      <td>27469.0</td>\n",
       "      <td>265.0</td>\n",
       "      <td>36.2</td>\n",
       "      <td>2.0</td>\n",
       "      <td>0.0</td>\n",
       "      <td>0.0</td>\n",
       "      <td>0.0</td>\n",
       "      <td>0.0</td>\n",
       "      <td>0.0</td>\n",
       "      <td>...</td>\n",
       "      <td>0.0</td>\n",
       "      <td>0.0</td>\n",
       "      <td>0.0</td>\n",
       "      <td>0.0</td>\n",
       "      <td>1.0</td>\n",
       "      <td>0.0</td>\n",
       "      <td>0.0</td>\n",
       "      <td>0.0</td>\n",
       "      <td>0.0</td>\n",
       "      <td>1.0</td>\n",
       "    </tr>\n",
       "    <tr>\n",
       "      <th>3</th>\n",
       "      <td>2017.0</td>\n",
       "      <td>14736.0</td>\n",
       "      <td>150.0</td>\n",
       "      <td>36.2</td>\n",
       "      <td>2.0</td>\n",
       "      <td>0.0</td>\n",
       "      <td>0.0</td>\n",
       "      <td>0.0</td>\n",
       "      <td>0.0</td>\n",
       "      <td>0.0</td>\n",
       "      <td>...</td>\n",
       "      <td>0.0</td>\n",
       "      <td>0.0</td>\n",
       "      <td>0.0</td>\n",
       "      <td>0.0</td>\n",
       "      <td>1.0</td>\n",
       "      <td>0.0</td>\n",
       "      <td>0.0</td>\n",
       "      <td>0.0</td>\n",
       "      <td>0.0</td>\n",
       "      <td>1.0</td>\n",
       "    </tr>\n",
       "    <tr>\n",
       "      <th>4</th>\n",
       "      <td>2017.0</td>\n",
       "      <td>36284.0</td>\n",
       "      <td>145.0</td>\n",
       "      <td>36.2</td>\n",
       "      <td>2.0</td>\n",
       "      <td>0.0</td>\n",
       "      <td>0.0</td>\n",
       "      <td>0.0</td>\n",
       "      <td>0.0</td>\n",
       "      <td>0.0</td>\n",
       "      <td>...</td>\n",
       "      <td>0.0</td>\n",
       "      <td>0.0</td>\n",
       "      <td>0.0</td>\n",
       "      <td>0.0</td>\n",
       "      <td>1.0</td>\n",
       "      <td>0.0</td>\n",
       "      <td>0.0</td>\n",
       "      <td>0.0</td>\n",
       "      <td>0.0</td>\n",
       "      <td>1.0</td>\n",
       "    </tr>\n",
       "  </tbody>\n",
       "</table>\n",
       "<p>5 rows × 30 columns</p>\n",
       "</div>"
      ],
      "text/plain": [
       "     year  mileage    tax   mpg  engineSize  model_ Auris  model_ Avensis  \\\n",
       "0  2016.0  24089.0  265.0  36.2         2.0           0.0             0.0   \n",
       "1  2017.0  18615.0  145.0  36.2         2.0           0.0             0.0   \n",
       "2  2015.0  27469.0  265.0  36.2         2.0           0.0             0.0   \n",
       "3  2017.0  14736.0  150.0  36.2         2.0           0.0             0.0   \n",
       "4  2017.0  36284.0  145.0  36.2         2.0           0.0             0.0   \n",
       "\n",
       "   model_ Aygo  model_ C-HR  model_ Camry  ...  model_ Verso  model_ Verso-S  \\\n",
       "0          0.0          0.0           0.0  ...           0.0             0.0   \n",
       "1          0.0          0.0           0.0  ...           0.0             0.0   \n",
       "2          0.0          0.0           0.0  ...           0.0             0.0   \n",
       "3          0.0          0.0           0.0  ...           0.0             0.0   \n",
       "4          0.0          0.0           0.0  ...           0.0             0.0   \n",
       "\n",
       "   model_ Yaris  transmission_Automatic  transmission_Manual  \\\n",
       "0           0.0                     0.0                  1.0   \n",
       "1           0.0                     0.0                  1.0   \n",
       "2           0.0                     0.0                  1.0   \n",
       "3           0.0                     0.0                  1.0   \n",
       "4           0.0                     0.0                  1.0   \n",
       "\n",
       "   transmission_Semi-Auto  fuelType_Diesel  fuelType_Hybrid  fuelType_Other  \\\n",
       "0                     0.0              0.0              0.0             0.0   \n",
       "1                     0.0              0.0              0.0             0.0   \n",
       "2                     0.0              0.0              0.0             0.0   \n",
       "3                     0.0              0.0              0.0             0.0   \n",
       "4                     0.0              0.0              0.0             0.0   \n",
       "\n",
       "   fuelType_Petrol  \n",
       "0              1.0  \n",
       "1              1.0  \n",
       "2              1.0  \n",
       "3              1.0  \n",
       "4              1.0  \n",
       "\n",
       "[5 rows x 30 columns]"
      ]
     },
     "execution_count": 47,
     "metadata": {},
     "output_type": "execute_result"
    }
   ],
   "source": [
    "X.head(5)"
   ]
  },
  {
   "cell_type": "code",
   "execution_count": 48,
   "id": "da111f26-7806-4de2-b4b7-548cb890bf62",
   "metadata": {},
   "outputs": [
    {
     "data": {
      "text/plain": [
       "(6688,)"
      ]
     },
     "execution_count": 48,
     "metadata": {},
     "output_type": "execute_result"
    }
   ],
   "source": [
    "y = df['price']\n",
    "y.shape"
   ]
  },
  {
   "cell_type": "markdown",
   "id": "bdc62bd2-412d-4c4b-9068-014c7f5a4d7d",
   "metadata": {
    "tags": []
   },
   "source": [
    "## Model Development"
   ]
  },
  {
   "cell_type": "markdown",
   "id": "2cc6f2b8-656e-4460-9a91-b79c9e1a6b49",
   "metadata": {},
   "source": [
    "- **I will use an XGBRegressor model. since we have many categorical values in our data therefore I think a tree model as XGBRegressor would fit the data well. I will also use gridsearch for hyperparameter tunning.**"
   ]
  },
  {
   "cell_type": "code",
   "execution_count": 50,
   "id": "84af3690-1214-457f-a93e-5b13524f99fe",
   "metadata": {},
   "outputs": [],
   "source": [
    "X_train, X_test, y_train, y_test = train_test_split(X, y, train_size=0.9, test_size=0.1,random_state=0)"
   ]
  },
  {
   "cell_type": "markdown",
   "id": "ca0b1abd-513e-415c-b414-cf6d1d459d8e",
   "metadata": {
    "tags": []
   },
   "source": [
    "### Model building"
   ]
  },
  {
   "cell_type": "code",
   "execution_count": 75,
   "id": "f9de9476-6d30-4dd4-bc28-7add5adee2f2",
   "metadata": {},
   "outputs": [],
   "source": [
    "xgb1 = XGBRegressor()\n",
    "\n",
    "param = {'nthread':[4],\n",
    "              'learning_rate': [.03, 0.05, .07], \n",
    "              'max_depth': [5, 6],\n",
    "              'min_child_weight': [2,4],\n",
    "              'subsample': [0.7],\n",
    "              'colsample_bytree': [0.7],\n",
    "              'n_estimators': [500]}\n",
    "\n",
    "xgb_grid = GridSearchCV(xgb1,\n",
    "                        param,\n",
    "                        cv = 2,\n",
    "                        n_jobs = 5,\n",
    "                        verbose=True)"
   ]
  },
  {
   "cell_type": "code",
   "execution_count": null,
   "id": "841a9b24-2d78-436b-a3cd-63c5353c4e2c",
   "metadata": {},
   "outputs": [],
   "source": [
    "#xgb_grid.fit(X_train,\n",
    "#         y_train)\n",
    "\n",
    "#print(xgb_grid.best_score_)\n",
    "#print(xgb_grid.best_params_)"
   ]
  },
  {
   "cell_type": "markdown",
   "id": "816d9533-e60e-4fdc-a17d-ca9b2d4ea22d",
   "metadata": {},
   "source": [
    "- **now i will create the model using the best parameters.**"
   ]
  },
  {
   "cell_type": "code",
   "execution_count": 51,
   "id": "de5ef2c8-867a-4bf7-b662-8a72be7f034a",
   "metadata": {},
   "outputs": [
    {
     "data": {
      "text/plain": [
       "0.980080369334108"
      ]
     },
     "execution_count": 51,
     "metadata": {},
     "output_type": "execute_result"
    }
   ],
   "source": [
    "xgboost_regressor_model = XGBRegressor(random_state=0,\n",
    "                             colsample_bytree=0.7,\n",
    "                             min_child_weight=2,\n",
    "                             n_estimators=500,\n",
    "                             nthread=4,\n",
    "                             max_depth=5,\n",
    "                             subsample=0.7,\n",
    "                             learning_rate=0.03)\n",
    "xgboost_regressor_model.fit(X_train, y_train)\n",
    "xgboost_regressor_model.score(X_train, y_train)"
   ]
  },
  {
   "cell_type": "markdown",
   "id": "ee9af698-aa4e-4de0-8c86-ecf474b97e22",
   "metadata": {
    "tags": []
   },
   "source": [
    "### Model evaluating "
   ]
  },
  {
   "cell_type": "markdown",
   "id": "ff0bdf2d-4325-4e4c-9824-f696dcbec99f",
   "metadata": {},
   "source": [
    "- **I will choose Mean Squared Error to see how our predictions is close to the real target.**"
   ]
  },
  {
   "cell_type": "code",
   "execution_count": 52,
   "id": "87b602ef-781e-41d8-8b54-235d28e505b5",
   "metadata": {},
   "outputs": [],
   "source": [
    "pred = xgboost_regressor_model.predict(X_test)"
   ]
  },
  {
   "cell_type": "code",
   "execution_count": 53,
   "id": "cfd49acd-2a06-4de1-bedd-139b95457ab8",
   "metadata": {},
   "outputs": [
    {
     "data": {
      "text/plain": [
       "'root mean_squared_error '"
      ]
     },
     "metadata": {},
     "output_type": "display_data"
    },
    {
     "data": {
      "text/plain": [
       "999.3012040186352"
      ]
     },
     "metadata": {},
     "output_type": "display_data"
    }
   ],
   "source": [
    "rmse = (np.sqrt(mean_squared_error(y_test, pred)))\n",
    "display('root mean_squared_error ',rmse)"
   ]
  },
  {
   "cell_type": "markdown",
   "id": "4eea2378-a08c-4fe7-bbe9-61bdb88dad6e",
   "metadata": {},
   "source": [
    "- **The root mean square error is 999.3 almost 1000 which is less than 1500 so its is expected that most of the cars will not be sold.**"
   ]
  },
  {
   "cell_type": "markdown",
   "id": "1cfd933f-99f5-4893-84e1-0438abd15e4d",
   "metadata": {},
   "source": [
    "- **I will also use R2 score and explained variance  score to measure the amount of variance in the predictions explained by the dataset and the proportion of the variability of the predictions.**"
   ]
  },
  {
   "cell_type": "code",
   "execution_count": 54,
   "id": "e9fcb3d2-b896-4a28-9e97-8ffdf48b7cb7",
   "metadata": {},
   "outputs": [
    {
     "data": {
      "text/plain": [
       "'R2 Score  '"
      ]
     },
     "metadata": {},
     "output_type": "display_data"
    },
    {
     "data": {
      "text/plain": [
       "0.9733753648823935"
      ]
     },
     "metadata": {},
     "output_type": "display_data"
    },
    {
     "data": {
      "text/plain": [
       "'Explained Variance Score  '"
      ]
     },
     "metadata": {},
     "output_type": "display_data"
    },
    {
     "data": {
      "text/plain": [
       "0.9733753756760253"
      ]
     },
     "metadata": {},
     "output_type": "display_data"
    }
   ],
   "source": [
    "r2 = r2_score(y_test, pred)\n",
    "explained_variance = explained_variance_score(y_test, pred)\n",
    "display('R2 Score  ',r2)\n",
    "display('Explained Variance Score  ',explained_variance)"
   ]
  },
  {
   "cell_type": "markdown",
   "id": "aac109f6-8cb1-44cc-9baa-95a21b96236a",
   "metadata": {
    "tags": []
   },
   "source": [
    "### Feature Importance"
   ]
  },
  {
   "cell_type": "markdown",
   "id": "ac55a528-c352-4863-b19f-70db077a2c17",
   "metadata": {},
   "source": [
    "- **I will use indirect sort to get inices of sorted array to use it  in the barplot**"
   ]
  },
  {
   "cell_type": "code",
   "execution_count": 55,
   "id": "1dfc45e3-f357-40c1-b4b1-81501fc6e751",
   "metadata": {},
   "outputs": [],
   "source": [
    "sort_ind = xgboost_regressor_model.feature_importances_.argsort()"
   ]
  },
  {
   "cell_type": "code",
   "execution_count": 56,
   "id": "222147dc-1eb9-4200-84fa-a3f21297922f",
   "metadata": {},
   "outputs": [],
   "source": [
    "feature_names =np.array(X.columns)"
   ]
  },
  {
   "cell_type": "code",
   "execution_count": 57,
   "id": "1fb8aa6d-5ed0-4355-b360-be70b4313a99",
   "metadata": {},
   "outputs": [
    {
     "data": {
      "image/png": "[encoded data removed]",
      "text/plain": [
       "<Figure size 936x576 with 1 Axes>"
      ]
     },
     "metadata": {
      "needs_background": "light"
     },
     "output_type": "display_data"
    }
   ],
   "source": [
    "plt.figure(figsize=(13,8))\n",
    "plt.title('Xgboost Feature Importance')\n",
    "fig=sns.barplot(xgboost_regressor_model.feature_importances_[sort_ind],feature_names[sort_ind],palette=\"light:#5A9\")\n",
    "fig.set_xticklabels( fig.get_xticklabels(),rotation=30)\n",
    "plt.show()"
   ]
  },
  {
   "cell_type": "markdown",
   "id": "59c46cf1-f091-4287-b75d-7fa8df389308",
   "metadata": {},
   "source": [
    "- **It is shown from the above graph that the engine size and whether it is manual transmission car or not are the most features that affect our prediction.**"
   ]
  },
  {
   "cell_type": "code",
   "execution_count": 60,
   "id": "07a76a05-8f6a-480f-96d4-ea69d4c72ee7",
   "metadata": {},
   "outputs": [
    {
     "data": {
      "image/png": "[encoded data removed]",
      "text/plain": [
       "<Figure size 576x684 with 1 Axes>"
      ]
     },
     "metadata": {
      "needs_background": "light"
     },
     "output_type": "display_data"
    }
   ],
   "source": [
    "explainer = shap.TreeExplainer(xgboost_regressor_model)\n",
    "shap_values = explainer.shap_values(X_test)\n",
    "shap.summary_plot(shap_values, X_test, plot_type=\"bar\") \n"
   ]
  },
  {
   "cell_type": "markdown",
   "id": "0f6d8e2e-cc6b-441d-8900-7b07c3999f61",
   "metadata": {},
   "source": [
    "- we can also use a density scatter plot of SHAP values for each feature to identify how much impact each feature has on the model output for individuals.Each point on the summary plot is a Shapley value for a feature and an instance. The color represents the value of the feature from low to high and  The features are ordered according to their importance."
   ]
  },
  {
   "cell_type": "code",
   "execution_count": 62,
   "id": "cdd0eeef-1602-4c4c-9eb8-c3a3d183bc2f",
   "metadata": {},
   "outputs": [
    {
     "data": {
      "image/png": "[encoded data removed]",
      "text/plain": [
       "<Figure size 576x684 with 2 Axes>"
      ]
     },
     "metadata": {
      "needs_background": "light"
     },
     "output_type": "display_data"
    }
   ],
   "source": [
    "shap.summary_plot(shap_values, X_test)"
   ]
  },
  {
   "cell_type": "markdown",
   "id": "baa55589-4d6e-49a4-99e1-b97e5e428e5b",
   "metadata": {},
   "source": [
    "- shap dependence plots show the effect of a single feature across the whole dataset. They plot a feature's value verses the shape value of that feature across many samples.I will plot the feature with heighst importance weight."
   ]
  },
  {
   "cell_type": "code",
   "execution_count": 63,
   "id": "651ae8a8-981c-45a6-83fc-8d1b032d86b3",
   "metadata": {},
   "outputs": [
    {
     "data": {
      "image/png": "[encoded data removed]",
      "text/plain": [
       "<Figure size 540x360 with 2 Axes>"
      ]
     },
     "metadata": {
      "needs_background": "light"
     },
     "output_type": "display_data"
    }
   ],
   "source": [
    "shap.dependence_plot(\"engineSize\", shap_values, X_test)"
   ]
  },
  {
   "cell_type": "markdown",
   "id": "2b1bdcde-fbe0-4f9b-90dc-bc30067da27a",
   "metadata": {
    "tags": []
   },
   "source": [
    "## Conclusions and Feature work"
   ]
  },
  {
   "cell_type": "markdown",
   "id": "ec0f1201-d6a8-444e-90dd-51c263e1d817",
   "metadata": {},
   "source": [
    "- Our main objective was to generate a model to help predict the price of the used Toyota cars to help the sales team to fairly price their cars.\n",
    "- After analyzing the data we found that :\n",
    "    1. the price is influenced by the engine size the most and also affected by the year, tax of the car.\n",
    "    2. the price is negitively affected by mileage and mpg. \n",
    "    3. hybrid models and automatic transmission types are the most expensive\n",
    "    4. the model affect the price , Supra and Land crusier have highest average prices.\n",
    "- The model was developed using grid search for tunning the hyperparameters and XGBooster reggresor as a model. The model achieved a R2 score of 0.97 and RMSE of approximatly 1000. Furthermore, the feature importance analysis indicates that the most important features are engine size , year, transimission and mileage.\n",
    "- The model can be improved by adding more balanced trainning data and with more hyperparameter tuning we could achieve better results. we can also use  only the most important features while alternating or combinig the lesser ones like tax and fuel type.\n",
    "-We can deploy the model through an API and host the application in the cloud."
   ]
  }
 ],
 "metadata": {
  "colab": {
   "name": "Welcome to DataCamp Workspaces.ipynb",
   "provenance": []
  },
  "kernelspec": {
   "display_name": "Python 3 (ipykernel)",
   "language": "python",
   "name": "python3"
  },
  "language_info": {
   "codemirror_mode": {
    "name": "ipython",
    "version": 3
   },
   "file_extension": ".py",
   "mimetype": "text/x-python",
   "name": "python",
   "nbconvert_exporter": "python",
   "pygments_lexer": "ipython3",
   "version": "3.8.10"
  }
 },
 "nbformat": 4,
 "nbformat_minor": 5
}
